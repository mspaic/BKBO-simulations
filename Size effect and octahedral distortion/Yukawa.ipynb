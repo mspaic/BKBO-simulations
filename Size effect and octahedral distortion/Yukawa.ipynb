{
 "cells": [
  {
   "cell_type": "code",
   "execution_count": 3,
   "metadata": {},
   "outputs": [],
   "source": [
    "#imports\n",
    "import numpy as np\n",
    "import xarray as xr\n",
    "from matplotlib import pyplot as plt\n",
    "from javelin.structure import Structure\n",
    "from javelin.unitcell  import UnitCell\n",
    "from javelin.modifier  import SetDisplacementNormalXYZ\n",
    "from javelin.modifier  import SetDisplacementNormal\n",
    "from javelin.energies  import MorseEnergy\n",
    "from javelin.energies  import YukawaEnergy\n",
    "from javelin.fourier   import Fourier \n",
    "from javelin.mc import MC\n",
    "from javelin.utils import run_parallel\n",
    "import javelin.BvsOptimizer as bvs"
   ]
  },
  {
   "cell_type": "code",
   "execution_count": null,
   "metadata": {},
   "outputs": [],
   "source": [
    "%matplotlib qt\n",
    "plt.style.use(['science'])\n",
    "plt.rcParams['text.usetex'] = False\n",
    "plt.rcParams['axes.linewidth'] = 2\n",
    "plt.rcParams[\"font.family\"] = \"Arimo\"\n",
    "plt.rcParams['xtick.major.size'] = 4\n",
    "plt.rcParams['xtick.major.width'] = 3\n",
    "plt.rcParams['xtick.minor.size'] = 3\n",
    "plt.rcParams['xtick.minor.width'] = 2\n",
    "plt.rcParams['ytick.major.size'] = 4\n",
    "plt.rcParams['ytick.major.width'] = 3\n",
    "plt.rcParams['ytick.minor.size'] = 3\n",
    "plt.rcParams['ytick.minor.width'] = 2"
   ]
  },
  {
   "cell_type": "code",
   "execution_count": null,
   "metadata": {},
   "outputs": [],
   "source": [
    "#creating initial pseudocubic structure (space group Pm3m)\n",
    "\n",
    "def lattice_constant(x): \n",
    "    return 4.3548 - 0.1743*x\n",
    "\n",
    "def CreateStructure(ncells = 10, doping = 0): \n",
    "    pos = [(0,0,0),(0.5,0,0),(0,0.5,0),(0,0,0.5),(0.5,0.5,0.5)]\n",
    "    cubic_cell = UnitCell(lattice_constant(doping))\n",
    "    BaK = np.random.choice([19,56], size =ncells**3 , p=[doping, 1-doping])\n",
    "    structure = Structure(numbers=[83,8,8,8,1]*ncells**3,\n",
    "    positions = pos*ncells**3, unitcell=cubic_cell)\n",
    "    structure.reindex([ncells,ncells,ncells,5])\n",
    "    structure.get_atomic_numbers()[4::5] = BaK\n",
    "    structure.update_atom_symbols()\n",
    "    return structure"
   ]
  },
  {
   "cell_type": "code",
   "execution_count": null,
   "metadata": {},
   "outputs": [],
   "source": [
    "structure = CreateStructure(ncells = 10, doping=0.2)\n",
    "structure.atoms"
   ]
  },
  {
   "cell_type": "code",
   "execution_count": null,
   "metadata": {},
   "outputs": [],
   "source": [
    "N = 15\n",
    "dop = 0.4\n",
    "def Yukawa_simulation(structure = None):\n",
    "    Range = 2\n",
    "    sum_distance = Range*3\n",
    "    BaBi = structure.get_neighbors(4,0, maxD = sum_distance)\n",
    "    BiBa = structure.get_neighbors(0,4, maxD = sum_distance)\n",
    "    BaBa = structure.get_neighbors(4,4, maxD = sum_distance)\n",
    "    BiBi = structure.get_neighbors(0,0, maxD = sum_distance)\n",
    "\n",
    "    BiO =  structure.get_neighbors(0,1) + structure.get_neighbors(0,2) + structure.get_neighbors(0,3)  \n",
    "    BaO =  structure.get_neighbors(4,1) + structure.get_neighbors(4,2) + structure.get_neighbors(4,3)\n",
    "\n",
    "    E_BiO =  MorseEnergy(D = 10, b =0.318/lattice_constant(dop), desired = 1/2 ,         atom_type1 = 83, atom_type2 = 8)\n",
    "    E_KO =   MorseEnergy(D = 2 , b =0.398/lattice_constant(dop), desired = np.sqrt(2)/2, atom_type1 = 19, atom_type2 = 8)\n",
    "    E_BaO =  MorseEnergy(D = 2 , b =0.406/lattice_constant(dop), desired = np.sqrt(2)/2, atom_type1 = 56, atom_type2 = 8)\n",
    "\n",
    "\n",
    "    k = 50\n",
    "    E_BiBi =  YukawaEnergy(range = Range, g= k*(4+dop)*(4+dop), atom_type1=83 , atom_type2=83 )\n",
    "    E_BiBa =  YukawaEnergy(range = Range, g= k*(4+dop)*2      , atom_type1=83 , atom_type2=56 )\n",
    "    E_BiK  =  YukawaEnergy(range = Range, g= k*(4+dop)*1      , atom_type1=83 , atom_type2=19 )\n",
    "    E_BaK  =  YukawaEnergy(range = Range, g= k*2              , atom_type1=56 , atom_type2=19 )\n",
    "    E_BaBa  = YukawaEnergy(range = Range, g= k*4               , atom_type1=56 , atom_type2=56 )\n",
    "    E_KK    = YukawaEnergy(range = Range, g= k*1               , atom_type1=19 ,  atom_type2=19)\n",
    "\n",
    "    number_of_cycles =  50\n",
    "    final_temperature = 1\n",
    "    temp_sequence  = np.arange(number_of_cycles)\n",
    "    temp_sequence  = 10*np.exp(-temp_sequence/50) + final_temperature\n",
    "    Size_effect = MC() \n",
    "    Size_effect.temperature = temp_sequence\n",
    "    Size_effect.cycles = number_of_cycles\n",
    "\n",
    "    Sigma_Bi = 0.05\n",
    "    Sigma_Ba = 0.05\n",
    "\n",
    "    Size_effect.add_modifier(SetDisplacementNormal(0,0.0,Sigma_Bi))\n",
    "    Size_effect.add_target(BiO,   E_BiO)\n",
    "\n",
    "    Size_effect.add_target(BiBi,  E_BiBi)\n",
    "    Size_effect.add_target(BiBa,  E_BiBa)\n",
    "    Size_effect.add_target(BiBa,  E_BiK)\n",
    "\n",
    "\n",
    "\n",
    "    Size_effect.add_modifier(SetDisplacementNormalXYZ(4,0.5,Sigma_Ba, 0.5, Sigma_Ba, 0.5, Sigma_Ba)) \n",
    "    Size_effect.add_target(BaO ,  E_BaO)\n",
    "    Size_effect.add_target(BaO ,  E_KO)\n",
    "\n",
    "\n",
    "    Size_effect.add_target(BaBa,  E_BaBa)\n",
    "    Size_effect.add_target(BaBa,  E_BaK)\n",
    "    Size_effect.add_target(BaBa,  E_KK)\n",
    "    Size_effect.add_target(BaBi,  E_BiBa)\n",
    "    Size_effect.add_target(BaBi,  E_BiK)\n",
    "    structure = Size_effect.run(structure)\n",
    "    return structure"
   ]
  },
  {
   "cell_type": "code",
   "execution_count": null,
   "metadata": {},
   "outputs": [],
   "source": [
    "\n",
    "structures = [CreateStructure(ncells = N  , doping = dop) for x in range(12)]\n",
    "structures = run_parallel(Yukawa_simulation, structures)"
   ]
  },
  {
   "cell_type": "code",
   "execution_count": null,
   "metadata": {},
   "outputs": [],
   "source": []
  },
  {
   "cell_type": "code",
   "execution_count": null,
   "metadata": {},
   "outputs": [],
   "source": [
    "\n",
    "\n",
    "Bi_rms = [bvs.get_rms_displacement(x,0) for x in structures]\n",
    "Ba_rms = [bvs.get_rms_displacement(x,4) for x in structures]\n",
    "Bi_adp = [bvs.get_ADPs(x,0) for x in structures]\n",
    "Ba_adp = [bvs.get_ADPs(x,4) for x in structures]\n",
    "\n",
    "Bi_rms = np.array(Bi_rms)\n",
    "Bi_adp = np.array(Bi_adp)\n",
    "Ba_rms = np.array(Ba_rms)\n",
    "Ba_adp = np.array(Ba_adp)\n",
    "\n",
    "Bi_rms = Bi_rms[:,:].sum(axis=0)/len(structures)\n",
    "Bi_adp = Bi_adp[:,:].sum(axis=0)/len(structures)\n",
    "Ba_rms = Ba_rms[:,:].sum(axis=0)/len(structures)\n",
    "Ba_adp = Ba_adp[:,:].sum(axis=0)/len(structures)\n",
    "\n",
    "\n",
    "BiK_distance = []\n",
    "BiBa_distance = []\n",
    "\n",
    "for s in structures: \n",
    "    BiBa_distance.append(bvs.get_distances(s,83,56, structure.get_neighbors(0,4))) \n",
    "    BiK_distance.append(bvs.get_distances(s,83,19, structure.get_neighbors(0,4)))\n",
    "BiBa_distance = np.concatenate(BiBa_distance)\n",
    "BiK_distance = np.concatenate(BiK_distance)\n",
    "\n",
    "BiBa_mean = BiBa_distance.mean()/lattice_constant(dop)\n",
    "BiK_mean = BiK_distance.mean()/lattice_constant(dop)\n",
    "\n"
   ]
  },
  {
   "cell_type": "code",
   "execution_count": null,
   "metadata": {},
   "outputs": [],
   "source": [
    "print(\"RMS [Bi] \", Bi_rms) \n",
    "print(\"RMS [Ba] \", Ba_rms) \n",
    "print(\"ADP [Bi] \", Bi_adp) \n",
    "print(\"ADP [Ba] \", Ba_adp) \n",
    "\n",
    "print(\"Average distances:\")\n",
    "print(\"BiK: \",round( BiK_mean,5), \"\\nBiBa: \", round( BiBa_mean , 5), \"\\nBiBa - BiK:\", round(BiBa_mean - BiK_mean, 5))"
   ]
  },
  {
   "cell_type": "code",
   "execution_count": null,
   "metadata": {},
   "outputs": [],
   "source": [
    "ratio = 0.7\n",
    "plt.figure(figsize=[ratio*8,ratio*11])\n",
    "\n",
    "plt.hist(BiBa_distance/lattice_constant(dop) , bins = 80 , \n",
    "density = True, color = \"sandybrown\", fill = False,  label=\"Bi-Ba pairs\",  histtype = \"step\", lw = 2.7, zorder=3)\n",
    "\n",
    "plt.hist(BiK_distance/lattice_constant(dop)  , bins = 80 , \n",
    "density = True, color = \"mediumseagreen\", fill = False,   label=\"Bi-K pairs\",  histtype = \"step\", lw = 2.7, zorder= 2)\n",
    "\n",
    "plt.axvline(np.sqrt(3) / 2 , 0, 1, label='', ls = ':', color = \"firebrick\",       lw = 2.5 , zorder = 1)\n",
    "\n",
    "\n",
    "plt.legend(edgecolor = \"b\", fancybox = True , fontsize = 16)\n",
    "plt.tick_params(axis = 'both', labelsize=17)\n",
    "plt.ylabel(\"Pair distribution (arb. units)\", fontsize = 20)\n",
    "plt.xlabel(\"Distance (l.u.)\", fontsize = 20)\n",
    "plt.show() "
   ]
  },
  {
   "cell_type": "code",
   "execution_count": null,
   "metadata": {},
   "outputs": [],
   "source": [
    "f1 = Fourier() \n",
    "f1.approximate = True\n",
    "f1.average = True\n",
    "f1.lots = 5,5,5\n",
    "f1.number_of_lots = 40\n",
    "f1.radiation = \"xray\"\n",
    "f1.grid.r1 = -8,8\n",
    "f1.grid.r2 = -8,8\n",
    "f1.grid.bins = (801, 801, 1) \n",
    "\n",
    "I = [f1.calc(x) for x in structures] \n",
    "intensity = sum(I)"
   ]
  },
  {
   "cell_type": "code",
   "execution_count": null,
   "metadata": {},
   "outputs": [],
   "source": []
  }
 ],
 "metadata": {
  "kernelspec": {
   "display_name": "Python 3",
   "language": "python",
   "name": "python3"
  },
  "language_info": {
   "codemirror_mode": {
    "name": "ipython",
    "version": 3
   },
   "file_extension": ".py",
   "mimetype": "text/x-python",
   "name": "python",
   "nbconvert_exporter": "python",
   "pygments_lexer": "ipython3",
   "version": "3.10.6 (main, Nov 14 2022, 16:10:14) [GCC 11.3.0]"
  },
  "orig_nbformat": 4,
  "vscode": {
   "interpreter": {
    "hash": "31f2aee4e71d21fbe5cf8b01ff0e069b9275f58929596ceb00d14d90e3e16cd6"
   }
  }
 },
 "nbformat": 4,
 "nbformat_minor": 2
}
